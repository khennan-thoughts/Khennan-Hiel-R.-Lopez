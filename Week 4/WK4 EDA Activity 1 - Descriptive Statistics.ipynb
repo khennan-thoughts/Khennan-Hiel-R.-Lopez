{
 "cells": [
  {
   "cell_type": "markdown",
   "metadata": {},
   "source": [
    "# **Jaguar and Panther Performance Analysis**\n",
    "<hr style=\"border:2.5px solid #126782\">"
   ]
  },
  {
   "cell_type": "markdown",
   "metadata": {},
   "source": [
    "Name: **Khennan Hiel R. Lopez**\n",
    "<br>\n",
    "Course: **CPE2A** <br> <br>\n",
    "Presented below is the performace data of the Jaguar and Panther that were used to produce 1K ohm resistors."
   ]
  },
  {
   "cell_type": "code",
   "execution_count": 20,
   "metadata": {},
   "outputs": [
    {
     "data": {
      "text/html": [
       "<div>\n",
       "<style scoped>\n",
       "    .dataframe tbody tr th:only-of-type {\n",
       "        vertical-align: middle;\n",
       "    }\n",
       "\n",
       "    .dataframe tbody tr th {\n",
       "        vertical-align: top;\n",
       "    }\n",
       "\n",
       "    .dataframe thead th {\n",
       "        text-align: right;\n",
       "    }\n",
       "</style>\n",
       "<table border=\"1\" class=\"dataframe\">\n",
       "  <thead>\n",
       "    <tr style=\"text-align: right;\">\n",
       "      <th></th>\n",
       "      <th>Lot_No</th>\n",
       "      <th>Jaguar</th>\n",
       "      <th>Panther</th>\n",
       "    </tr>\n",
       "  </thead>\n",
       "  <tbody>\n",
       "    <tr>\n",
       "      <th>0</th>\n",
       "      <td>1</td>\n",
       "      <td>997</td>\n",
       "      <td>1035</td>\n",
       "    </tr>\n",
       "    <tr>\n",
       "      <th>1</th>\n",
       "      <td>2</td>\n",
       "      <td>1153</td>\n",
       "      <td>975</td>\n",
       "    </tr>\n",
       "    <tr>\n",
       "      <th>2</th>\n",
       "      <td>3</td>\n",
       "      <td>920</td>\n",
       "      <td>982</td>\n",
       "    </tr>\n",
       "    <tr>\n",
       "      <th>3</th>\n",
       "      <td>4</td>\n",
       "      <td>1074</td>\n",
       "      <td>1038</td>\n",
       "    </tr>\n",
       "    <tr>\n",
       "      <th>4</th>\n",
       "      <td>5</td>\n",
       "      <td>1013</td>\n",
       "      <td>891</td>\n",
       "    </tr>\n",
       "    <tr>\n",
       "      <th>5</th>\n",
       "      <td>6</td>\n",
       "      <td>960</td>\n",
       "      <td>907</td>\n",
       "    </tr>\n",
       "    <tr>\n",
       "      <th>6</th>\n",
       "      <td>7</td>\n",
       "      <td>890</td>\n",
       "      <td>960</td>\n",
       "    </tr>\n",
       "    <tr>\n",
       "      <th>7</th>\n",
       "      <td>8</td>\n",
       "      <td>910</td>\n",
       "      <td>978</td>\n",
       "    </tr>\n",
       "    <tr>\n",
       "      <th>8</th>\n",
       "      <td>9</td>\n",
       "      <td>944</td>\n",
       "      <td>1041</td>\n",
       "    </tr>\n",
       "    <tr>\n",
       "      <th>9</th>\n",
       "      <td>10</td>\n",
       "      <td>1065</td>\n",
       "      <td>1026</td>\n",
       "    </tr>\n",
       "    <tr>\n",
       "      <th>10</th>\n",
       "      <td>11</td>\n",
       "      <td>1083</td>\n",
       "      <td>590</td>\n",
       "    </tr>\n",
       "    <tr>\n",
       "      <th>11</th>\n",
       "      <td>12</td>\n",
       "      <td>1820</td>\n",
       "      <td>990</td>\n",
       "    </tr>\n",
       "    <tr>\n",
       "      <th>12</th>\n",
       "      <td>13</td>\n",
       "      <td>859</td>\n",
       "      <td>1076</td>\n",
       "    </tr>\n",
       "    <tr>\n",
       "      <th>13</th>\n",
       "      <td>14</td>\n",
       "      <td>1043</td>\n",
       "      <td>1092</td>\n",
       "    </tr>\n",
       "    <tr>\n",
       "      <th>14</th>\n",
       "      <td>15</td>\n",
       "      <td>1710</td>\n",
       "      <td>1026</td>\n",
       "    </tr>\n",
       "    <tr>\n",
       "      <th>15</th>\n",
       "      <td>16</td>\n",
       "      <td>933</td>\n",
       "      <td>935</td>\n",
       "    </tr>\n",
       "    <tr>\n",
       "      <th>16</th>\n",
       "      <td>17</td>\n",
       "      <td>790</td>\n",
       "      <td>1710</td>\n",
       "    </tr>\n",
       "    <tr>\n",
       "      <th>17</th>\n",
       "      <td>18</td>\n",
       "      <td>999</td>\n",
       "      <td>946</td>\n",
       "    </tr>\n",
       "    <tr>\n",
       "      <th>18</th>\n",
       "      <td>19</td>\n",
       "      <td>1028</td>\n",
       "      <td>1073</td>\n",
       "    </tr>\n",
       "    <tr>\n",
       "      <th>19</th>\n",
       "      <td>20</td>\n",
       "      <td>976</td>\n",
       "      <td>986</td>\n",
       "    </tr>\n",
       "    <tr>\n",
       "      <th>20</th>\n",
       "      <td>21</td>\n",
       "      <td>1015</td>\n",
       "      <td>1078</td>\n",
       "    </tr>\n",
       "    <tr>\n",
       "      <th>21</th>\n",
       "      <td>22</td>\n",
       "      <td>932</td>\n",
       "      <td>969</td>\n",
       "    </tr>\n",
       "    <tr>\n",
       "      <th>22</th>\n",
       "      <td>23</td>\n",
       "      <td>957</td>\n",
       "      <td>1083</td>\n",
       "    </tr>\n",
       "    <tr>\n",
       "      <th>23</th>\n",
       "      <td>24</td>\n",
       "      <td>936</td>\n",
       "      <td>790</td>\n",
       "    </tr>\n",
       "    <tr>\n",
       "      <th>24</th>\n",
       "      <td>25</td>\n",
       "      <td>977</td>\n",
       "      <td>1007</td>\n",
       "    </tr>\n",
       "    <tr>\n",
       "      <th>25</th>\n",
       "      <td>26</td>\n",
       "      <td>1037</td>\n",
       "      <td>934</td>\n",
       "    </tr>\n",
       "    <tr>\n",
       "      <th>26</th>\n",
       "      <td>27</td>\n",
       "      <td>997</td>\n",
       "      <td>999</td>\n",
       "    </tr>\n",
       "    <tr>\n",
       "      <th>27</th>\n",
       "      <td>28</td>\n",
       "      <td>1730</td>\n",
       "      <td>1011</td>\n",
       "    </tr>\n",
       "    <tr>\n",
       "      <th>28</th>\n",
       "      <td>29</td>\n",
       "      <td>1046</td>\n",
       "      <td>942</td>\n",
       "    </tr>\n",
       "    <tr>\n",
       "      <th>29</th>\n",
       "      <td>30</td>\n",
       "      <td>1840</td>\n",
       "      <td>1090</td>\n",
       "    </tr>\n",
       "  </tbody>\n",
       "</table>\n",
       "</div>"
      ],
      "text/plain": [
       "    Lot_No  Jaguar  Panther\n",
       "0        1     997     1035\n",
       "1        2    1153      975\n",
       "2        3     920      982\n",
       "3        4    1074     1038\n",
       "4        5    1013      891\n",
       "5        6     960      907\n",
       "6        7     890      960\n",
       "7        8     910      978\n",
       "8        9     944     1041\n",
       "9       10    1065     1026\n",
       "10      11    1083      590\n",
       "11      12    1820      990\n",
       "12      13     859     1076\n",
       "13      14    1043     1092\n",
       "14      15    1710     1026\n",
       "15      16     933      935\n",
       "16      17     790     1710\n",
       "17      18     999      946\n",
       "18      19    1028     1073\n",
       "19      20     976      986\n",
       "20      21    1015     1078\n",
       "21      22     932      969\n",
       "22      23     957     1083\n",
       "23      24     936      790\n",
       "24      25     977     1007\n",
       "25      26    1037      934\n",
       "26      27     997      999\n",
       "27      28    1730     1011\n",
       "28      29    1046      942\n",
       "29      30    1840     1090"
      ]
     },
     "execution_count": 20,
     "metadata": {},
     "output_type": "execute_result"
    }
   ],
   "source": [
    "df = pd.read_csv(\"Jaguar-Panther-Data.csv\")\n",
    "df"
   ]
  },
  {
   "cell_type": "markdown",
   "metadata": {},
   "source": [
    "Presented below is the *summary* of the data frame."
   ]
  },
  {
   "cell_type": "code",
   "execution_count": 27,
   "metadata": {},
   "outputs": [
    {
     "name": "stdout",
     "output_type": "stream",
     "text": [
      "<class 'pandas.core.frame.DataFrame'>\n",
      "RangeIndex: 30 entries, 0 to 29\n",
      "Data columns (total 3 columns):\n",
      " #   Column   Non-Null Count  Dtype\n",
      "---  ------   --------------  -----\n",
      " 0   Lot_No   30 non-null     int64\n",
      " 1   Jaguar   30 non-null     int64\n",
      " 2   Panther  30 non-null     int64\n",
      "dtypes: int64(3)\n",
      "memory usage: 852.0 bytes\n"
     ]
    }
   ],
   "source": [
    "df.info()"
   ]
  },
  {
   "cell_type": "markdown",
   "metadata": {},
   "source": [
    "Presented below is the *statistical summary* of the data frame."
   ]
  },
  {
   "cell_type": "code",
   "execution_count": 28,
   "metadata": {},
   "outputs": [
    {
     "data": {
      "text/html": [
       "<div>\n",
       "<style scoped>\n",
       "    .dataframe tbody tr th:only-of-type {\n",
       "        vertical-align: middle;\n",
       "    }\n",
       "\n",
       "    .dataframe tbody tr th {\n",
       "        vertical-align: top;\n",
       "    }\n",
       "\n",
       "    .dataframe thead th {\n",
       "        text-align: right;\n",
       "    }\n",
       "</style>\n",
       "<table border=\"1\" class=\"dataframe\">\n",
       "  <thead>\n",
       "    <tr style=\"text-align: right;\">\n",
       "      <th></th>\n",
       "      <th>Lot_No</th>\n",
       "      <th>Jaguar</th>\n",
       "      <th>Panther</th>\n",
       "    </tr>\n",
       "  </thead>\n",
       "  <tbody>\n",
       "    <tr>\n",
       "      <th>count</th>\n",
       "      <td>30.000000</td>\n",
       "      <td>30.000000</td>\n",
       "      <td>30.000000</td>\n",
       "    </tr>\n",
       "    <tr>\n",
       "      <th>mean</th>\n",
       "      <td>15.500000</td>\n",
       "      <td>1087.800000</td>\n",
       "      <td>1005.333333</td>\n",
       "    </tr>\n",
       "    <tr>\n",
       "      <th>std</th>\n",
       "      <td>8.803408</td>\n",
       "      <td>284.165129</td>\n",
       "      <td>166.261392</td>\n",
       "    </tr>\n",
       "    <tr>\n",
       "      <th>min</th>\n",
       "      <td>1.000000</td>\n",
       "      <td>790.000000</td>\n",
       "      <td>590.000000</td>\n",
       "    </tr>\n",
       "    <tr>\n",
       "      <th>25%</th>\n",
       "      <td>8.250000</td>\n",
       "      <td>938.000000</td>\n",
       "      <td>949.500000</td>\n",
       "    </tr>\n",
       "    <tr>\n",
       "      <th>50%</th>\n",
       "      <td>15.500000</td>\n",
       "      <td>998.000000</td>\n",
       "      <td>994.500000</td>\n",
       "    </tr>\n",
       "    <tr>\n",
       "      <th>75%</th>\n",
       "      <td>22.750000</td>\n",
       "      <td>1060.250000</td>\n",
       "      <td>1040.250000</td>\n",
       "    </tr>\n",
       "    <tr>\n",
       "      <th>max</th>\n",
       "      <td>30.000000</td>\n",
       "      <td>1840.000000</td>\n",
       "      <td>1710.000000</td>\n",
       "    </tr>\n",
       "  </tbody>\n",
       "</table>\n",
       "</div>"
      ],
      "text/plain": [
       "          Lot_No       Jaguar      Panther\n",
       "count  30.000000    30.000000    30.000000\n",
       "mean   15.500000  1087.800000  1005.333333\n",
       "std     8.803408   284.165129   166.261392\n",
       "min     1.000000   790.000000   590.000000\n",
       "25%     8.250000   938.000000   949.500000\n",
       "50%    15.500000   998.000000   994.500000\n",
       "75%    22.750000  1060.250000  1040.250000\n",
       "max    30.000000  1840.000000  1710.000000"
      ]
     },
     "execution_count": 28,
     "metadata": {},
     "output_type": "execute_result"
    }
   ],
   "source": [
    "df.describe()"
   ]
  },
  {
   "cell_type": "markdown",
   "metadata": {},
   "source": [
    "## **Jaguar Performance Analysis**"
   ]
  },
  {
   "cell_type": "markdown",
   "metadata": {},
   "source": [
    "### **Mean** <br>\n",
    "The mean is the average or the most common value in a collection of numbers."
   ]
  },
  {
   "cell_type": "code",
   "execution_count": 6,
   "metadata": {},
   "outputs": [
    {
     "name": "stdout",
     "output_type": "stream",
     "text": [
      "1087.8\n"
     ]
    }
   ],
   "source": [
    "jg_mean = df['Jaguar'].mean()\n",
    "print(jg_mean)"
   ]
  },
  {
   "cell_type": "markdown",
   "metadata": {},
   "source": [
    "The *mean* of the *Jaguar* is *1087.8*"
   ]
  },
  {
   "cell_type": "markdown",
   "metadata": {},
   "source": [
    "### **Median** <br>\n",
    "The median is the value lying at the midpoint of a frequency distribution of observed values, such as that there is an equal probability of falling above or below it."
   ]
  },
  {
   "cell_type": "code",
   "execution_count": 38,
   "metadata": {},
   "outputs": [
    {
     "name": "stdout",
     "output_type": "stream",
     "text": [
      "998.0\n"
     ]
    }
   ],
   "source": [
    "jg_median = df['Jaguar'].median()\n",
    "print(jg_median)"
   ]
  },
  {
   "cell_type": "markdown",
   "metadata": {},
   "source": [
    "The *median* of the *Jaguar* is *998.0*"
   ]
  },
  {
   "cell_type": "markdown",
   "metadata": {},
   "source": [
    "### **Mode** <br>\n",
    "The mode is the value that appears most often in a set of data values."
   ]
  },
  {
   "cell_type": "code",
   "execution_count": 24,
   "metadata": {},
   "outputs": [
    {
     "name": "stdout",
     "output_type": "stream",
     "text": [
      "997\n"
     ]
    }
   ],
   "source": [
    "jg_mode = df['Jaguar'].mode().to_numpy()[0]\n",
    "print(jg_mode)"
   ]
  },
  {
   "cell_type": "markdown",
   "metadata": {},
   "source": [
    "The *mode* of the *Jaguar* is 997."
   ]
  },
  {
   "cell_type": "markdown",
   "metadata": {},
   "source": [
    "### **Range** <br>\n",
    "The range of a data set is the difference between the highest and lowest values."
   ]
  },
  {
   "cell_type": "code",
   "execution_count": 8,
   "metadata": {},
   "outputs": [
    {
     "name": "stdout",
     "output_type": "stream",
     "text": [
      "1050\n"
     ]
    }
   ],
   "source": [
    "jg_range = df['Jaguar'].max() - df['Jaguar'].min()\n",
    "print(jg_range)"
   ]
  },
  {
   "cell_type": "markdown",
   "metadata": {},
   "source": [
    "The *range* of the *Jaguar* is *1050*."
   ]
  },
  {
   "cell_type": "markdown",
   "metadata": {},
   "source": [
    "### **Variance** <br>\n",
    "The variance is a statistical measurement of the spread between numbers in a data set.\n"
   ]
  },
  {
   "cell_type": "code",
   "execution_count": 8,
   "metadata": {},
   "outputs": [
    {
     "name": "stdout",
     "output_type": "stream",
     "text": [
      "80749.82068965517\n"
     ]
    }
   ],
   "source": [
    "jg_var = df['Jaguar'].var()\n",
    "print(jg_var)"
   ]
  },
  {
   "cell_type": "markdown",
   "metadata": {},
   "source": [
    "The *variance* of the *Jaguar* is *80749.82*."
   ]
  },
  {
   "cell_type": "markdown",
   "metadata": {},
   "source": [
    "### **Standard Deviation** <br>\n",
    "The standard deviation is a measure of how dispersed the data is in relation to the mean. "
   ]
  },
  {
   "cell_type": "code",
   "execution_count": 13,
   "metadata": {},
   "outputs": [
    {
     "name": "stdout",
     "output_type": "stream",
     "text": [
      "284.16512926405164\n"
     ]
    }
   ],
   "source": [
    "jg_sd = df['Jaguar'].std()\n",
    "print(jg_sd)"
   ]
  },
  {
   "cell_type": "markdown",
   "metadata": {},
   "source": [
    "The *standard deviation* of the *Jaguar* is *284.17*."
   ]
  },
  {
   "cell_type": "markdown",
   "metadata": {},
   "source": [
    "### **Coefficient of Variation** <br>\n",
    "The coefficient of variation (CV) is the ratio of the standard deviation to the mean."
   ]
  },
  {
   "cell_type": "code",
   "execution_count": 19,
   "metadata": {},
   "outputs": [
    {
     "name": "stdout",
     "output_type": "stream",
     "text": [
      "0.26122920505980113\n"
     ]
    }
   ],
   "source": [
    "jg_cv = jg_sd/df['Jaguar'].mean()\n",
    "print(jg_cv)"
   ]
  },
  {
   "cell_type": "markdown",
   "metadata": {},
   "source": [
    "The *coefficient of variation* of the *Jaguar* is *0.26*."
   ]
  },
  {
   "cell_type": "markdown",
   "metadata": {},
   "source": [
    "### **Boxplot** <br>\n",
    "The boxplot of Jaguar shows a median resistance rating slightly above 1000 Ω. The interquartile range (IQR) is moderately wide, indicating a fair amount of variability within the middle 50% of the data. The whiskers extend to a considerable range, suggesting a broad spread of data. However, several outliers are observed, particularly on the higher end, with resistance values significantly exceeding 1600 Ω. This indicates some inconsistencies in Jaguar’s resistance ratings, which could lead to performance issues in precision-sensitive applications."
   ]
  },
  {
   "cell_type": "code",
   "execution_count": 25,
   "metadata": {},
   "outputs": [
    {
     "data": {
      "image/png": "[encoded data removed]",
      "text/plain": [
       "<Figure size 640x480 with 1 Axes>"
      ]
     },
     "metadata": {},
     "output_type": "display_data"
    }
   ],
   "source": [
    "plt.boxplot(df['Jaguar'])\n",
    "plt.title(\"Jaguar Performance Boxplot\")\n",
    "plt.xlabel(\"Jaguar\")\n",
    "plt.ylabel(\"Produced Resistance Rating\")\n",
    "plt.xticks([])\n",
    "plt.show()"
   ]
  },
  {
   "cell_type": "markdown",
   "metadata": {},
   "source": [
    "## **Panther Performance Analysis**"
   ]
  },
  {
   "cell_type": "markdown",
   "metadata": {},
   "source": [
    "### **Mean** <br>\n",
    "The mean is the average or the most common value in a collection of numbers."
   ]
  },
  {
   "cell_type": "code",
   "execution_count": 32,
   "metadata": {},
   "outputs": [
    {
     "name": "stdout",
     "output_type": "stream",
     "text": [
      "1005.3333333333334\n"
     ]
    }
   ],
   "source": [
    "pt_mean = df['Panther'].mean()\n",
    "print(pt_mean)"
   ]
  },
  {
   "cell_type": "markdown",
   "metadata": {},
   "source": [
    "The *mean* of the *Panther* is *1005.33.*"
   ]
  },
  {
   "cell_type": "markdown",
   "metadata": {},
   "source": [
    "### **Median** <br>\n",
    "The median is the value lying at the midpoint of a frequency distribution of observed values, such as that there is an equal probability of falling above or below it."
   ]
  },
  {
   "cell_type": "code",
   "execution_count": 21,
   "metadata": {},
   "outputs": [
    {
     "name": "stdout",
     "output_type": "stream",
     "text": [
      "994.5\n"
     ]
    }
   ],
   "source": [
    "pt_median = df['Panther'].median()\n",
    "print(pt_median)"
   ]
  },
  {
   "cell_type": "markdown",
   "metadata": {},
   "source": [
    "The *median* of the *Panther* is *994.5*."
   ]
  },
  {
   "cell_type": "markdown",
   "metadata": {},
   "source": [
    "### **Mode** <br>\n",
    "The mode is the value that appears most often in a set of data values."
   ]
  },
  {
   "cell_type": "code",
   "execution_count": 23,
   "metadata": {},
   "outputs": [
    {
     "name": "stdout",
     "output_type": "stream",
     "text": [
      "1026\n"
     ]
    }
   ],
   "source": [
    "pt_mode = df['Panther'].mode().to_numpy()[0]\n",
    "print(pt_mode)"
   ]
  },
  {
   "cell_type": "markdown",
   "metadata": {},
   "source": [
    "The *mode* of the *Panther* is *1026*."
   ]
  },
  {
   "cell_type": "markdown",
   "metadata": {},
   "source": [
    "### **Range** <br>\n",
    "The range of a data set is the difference between the highest and lowest values."
   ]
  },
  {
   "cell_type": "code",
   "execution_count": 9,
   "metadata": {},
   "outputs": [
    {
     "name": "stdout",
     "output_type": "stream",
     "text": [
      "1120\n"
     ]
    }
   ],
   "source": [
    "pt_range = df['Panther'].max() - df['Panther'].min()\n",
    "print(pt_range)"
   ]
  },
  {
   "cell_type": "markdown",
   "metadata": {},
   "source": [
    "The *range* of the *Panther* is *1120*."
   ]
  },
  {
   "cell_type": "markdown",
   "metadata": {},
   "source": [
    "### **Variance** <br>\n",
    "The variance is a statistical measurement of the spread between numbers in a data set."
   ]
  },
  {
   "cell_type": "code",
   "execution_count": 10,
   "metadata": {},
   "outputs": [
    {
     "name": "stdout",
     "output_type": "stream",
     "text": [
      "27642.850574712644\n"
     ]
    }
   ],
   "source": [
    "pt_var = df['Panther'].var()\n",
    "print(pt_var)"
   ]
  },
  {
   "cell_type": "markdown",
   "metadata": {},
   "source": [
    "The *variance* of the *Panther* is *27642.85*."
   ]
  },
  {
   "cell_type": "markdown",
   "metadata": {},
   "source": [
    "### **Standard Deviation** <br>\n",
    "The standard deviation is a measure of how dispersed the data is in relation to the mean. "
   ]
  },
  {
   "cell_type": "code",
   "execution_count": 14,
   "metadata": {},
   "outputs": [
    {
     "name": "stdout",
     "output_type": "stream",
     "text": [
      "166.26139231557232\n"
     ]
    }
   ],
   "source": [
    "pt_sd = df['Panther'].std()\n",
    "print(pt_sd)"
   ]
  },
  {
   "cell_type": "markdown",
   "metadata": {},
   "source": [
    "The *standard deviation* of the *Panther* is 166.26*."
   ]
  },
  {
   "cell_type": "markdown",
   "metadata": {},
   "source": [
    "### **Coefficient of Variation** <br>\n",
    "The coefficient of variation (CV) is the ratio of the standard deviation to the mean."
   ]
  },
  {
   "cell_type": "code",
   "execution_count": 17,
   "metadata": {},
   "outputs": [
    {
     "name": "stdout",
     "output_type": "stream",
     "text": [
      "0.16537936901416345\n"
     ]
    }
   ],
   "source": [
    "pt_cv = pt_sd/df['Panther'].mean()\n",
    "print(pt_cv)"
   ]
  },
  {
   "cell_type": "markdown",
   "metadata": {},
   "source": [
    "The *coefficient of variation* of the *Panther* is *0.17*."
   ]
  },
  {
   "cell_type": "markdown",
   "metadata": {},
   "source": [
    "### **Boxplot** <br>\n",
    "The boxplot of Panther shows a median resistance rating closer to 1000 Ω, with a slightly narrower IQR compared to Jaguar. This narrower spread reflects lower variability within the middle 50% of the data, which suggests better consistency. The whiskers indicate that the overall range of resistance values for Panther is smaller than Jaguar's. There are fewer outliers for Panther, though they are still present, indicating occasional deviations from the expected resistance ratings."
   ]
  },
  {
   "cell_type": "code",
   "execution_count": 26,
   "metadata": {},
   "outputs": [
    {
     "data": {
      "image/png": "[encoded data removed]",
      "text/plain": [
       "<Figure size 640x480 with 1 Axes>"
      ]
     },
     "metadata": {},
     "output_type": "display_data"
    }
   ],
   "source": [
    "plt.boxplot(df['Panther'])\n",
    "plt.title(\"Panther Performance Boxplot\")\n",
    "plt.xlabel(\"Panther\")\n",
    "plt.ylabel(\"Produced Resistance Rating\")\n",
    "plt.xticks([])\n",
    "plt.show()"
   ]
  },
  {
   "cell_type": "markdown",
   "metadata": {},
   "source": [
    "## **Hypothesis**"
   ]
  },
  {
   "cell_type": "markdown",
   "metadata": {},
   "source": [
    "Based on the results of the calculations, the following statements are hypothesized:"
   ]
  },
  {
   "cell_type": "markdown",
   "metadata": {},
   "source": [
    "### **Mean** <br> \n",
    "**Panther** has a mean resistance of **1005.33 Ω**, which is only **5.33 Ω** above the target of 1 kΩ. This small deviation means Panther is **very close** to the desired resistance, and its performance is likely to align well with the intended specifications in most applications. In contrast, **Jaguar** has a mean resistance of **1087.8 Ω**, which is **87.8 Ω** higher than the target. This larger difference suggests that Jaguar is **farther** from the desired resistance, potentially affecting the accuracy and reliability of circuits that require precise resistance values. Therefore, **Panther is a better fit for applications** that demand closer tolerance to the target of 1 kΩ, depending on the mean only."
   ]
  },
  {
   "cell_type": "code",
   "execution_count": 35,
   "metadata": {},
   "outputs": [
    {
     "data": {
      "image/png": "[encoded data removed]",
      "text/plain": [
       "<Figure size 640x480 with 1 Axes>"
      ]
     },
     "metadata": {},
     "output_type": "display_data"
    }
   ],
   "source": [
    "#Mean\n",
    "\n",
    "name = ['Jaguar', 'Panther']\n",
    "data = [jg_mean,pt_mean]\n",
    "\n",
    "plt.bar(name,data)\n",
    "plt.xlabel('')\n",
    "plt.ylabel('Mean')\n",
    "plt.show()"
   ]
  },
  {
   "cell_type": "markdown",
   "metadata": {},
   "source": [
    "### **Median** <br>\n",
    "Although the difference between the two values is slight, **Jaguar's mean resistance of 998 Ω** is **closer** to the target rating of 1 kΩ than **Panther's mean resistance of 994.5 Ω**. This small discrepancy indicates that Jaguar's resistance is **more accurate** in hitting the desired value, which could be crucial in applications where precise resistance is important, such as in voltage dividers, filters, or signal processing circuits. Even a minor difference in resistance can impact the performance of circuits requiring exact values for optimal functionality. In contrast, **Panther**, being slightly further from the target at **994.5 Ω**, might introduce a **slightly higher margin of error**, potentially affecting the circuit's behavior, though the deviation for both resistors is relatively small. Therefore, **Jaguar's mean value suggests a more precise adherence** to the target rating, which could be the preferred choice in scenarios demanding higher accuracy when only median is considered."
   ]
  },
  {
   "cell_type": "code",
   "execution_count": 39,
   "metadata": {},
   "outputs": [
    {
     "data": {
      "image/png": "[encoded data removed]",
      "text/plain": [
       "<Figure size 640x480 with 1 Axes>"
      ]
     },
     "metadata": {},
     "output_type": "display_data"
    }
   ],
   "source": [
    "name = ['Jaguar', 'Panther']\n",
    "data = [jg_median,pt_median]\n",
    "\n",
    "plt.bar(name,data)\n",
    "plt.xlabel('')\n",
    "plt.ylabel('Median')\n",
    "plt.show()"
   ]
  },
  {
   "cell_type": "markdown",
   "metadata": {},
   "source": [
    "### **Mode** <br>\n",
    "**Jaguar's resistor**, with a frequent rating of **997 Ω**, is **significantly closer** to the expected 1 kΩ target than Panther's, which has a frequent rating of **1026 Ω**. The small difference of just **3 Ω** for Jaguar indicates that its resistance is **almost identical** to the desired 1 kΩ, making it a **more accurate** choice for applications where precise resistance is crucial. On the other hand, **Panther's 1026 Ω** resistance is **26 Ω higher** than the target, representing a deviation of about **2.6%**, which could have a **more noticeable effect** in circuits requiring exact resistance values. This larger discrepancy could result in shifts in voltage, current, or other electrical parameters, potentially leading to reduced performance or inefficiencies. Therefore, **Jaguar’s resistor is more suitable** when closer adherence to the 1 kΩ target is essential, while Panther's resistor might be less ideal in precision-sensitive applications, based on mode alone."
   ]
  },
  {
   "cell_type": "code",
   "execution_count": 40,
   "metadata": {},
   "outputs": [
    {
     "data": {
      "image/png": "[encoded data removed]",
      "text/plain": [
       "<Figure size 640x480 with 1 Axes>"
      ]
     },
     "metadata": {},
     "output_type": "display_data"
    }
   ],
   "source": [
    "name = ['Jaguar', 'Panther']\n",
    "data = [jg_mode,pt_mode]\n",
    "\n",
    "plt.bar(name,data)\n",
    "plt.xlabel('')\n",
    "plt.ylabel('Mode')\n",
    "plt.show()"
   ]
  },
  {
   "cell_type": "markdown",
   "metadata": {},
   "source": [
    "### **Range** <br>\n",
    "The range of a resistor indicates the extent of variability in its resistance values, and **Panther's range** of **1120 Ω** suggests **greater variability** compared to **Jaguar's range** of **1050 Ω**. This larger range for Panther implies that its resistance values are **less consistently distributed around** the mean, potentially leading to less predictable performance. In contrast, Jaguar’s smaller range indicates **tighter clustering** of resistance values, resulting in **lower variability**. Greater consistency in Jaguar’s resistance could provide more stable performance, especially in applications where precise resistance is crucial, such as voltage regulation or filtering. Therefore, detemined by the range alone, Jaguar, with its more stable range, would be the **better choice** for situations where tight tolerance and minimal fluctuation are necessary to maintain accurate and stable circuit operation."
   ]
  },
  {
   "cell_type": "code",
   "execution_count": 41,
   "metadata": {},
   "outputs": [
    {
     "data": {
      "image/png": "[encoded data removed]",
      "text/plain": [
       "<Figure size 640x480 with 1 Axes>"
      ]
     },
     "metadata": {},
     "output_type": "display_data"
    }
   ],
   "source": [
    "name = ['Jaguar', 'Panther']\n",
    "data = [jg_range,pt_range]\n",
    "\n",
    "plt.bar(name,data)\n",
    "plt.xlabel('')\n",
    "plt.ylabel('Range')\n",
    "plt.show()"
   ]
  },
  {
   "cell_type": "markdown",
   "metadata": {},
   "source": [
    "### **Variance** <br>\n",
    "**Jaguar's variance of 80,749.82** is **significantly higher** than **Panther's variance of 27,642.85**, indicating that Jaguar's resistors exhibit **much greater fluctuations** in their resistance ratings. A higher variance suggests that the resistance values are more spread out from the mean, meaning there is a **larger degree of inconsistency** in Jaguar’s production process. This could result in less predictable performance, especially in circuits requiring tight tolerances, as the resistors may not consistently meet the desired target value of 1 kΩ. In contrast, **Panther’s lower variance** reflects **greater consistency** in achieving the target resistance, with values more reliably clustered around the mean. This makes **Panther’s resistors a better choice** for applications where stability and precision are critical, such as in voltage regulation, filtering, or any system where consistent performance is essential.**Jaguar’s higher variance** could lead to **performance issues or inefficiencies** in such applications due to the increased likelihood of outlier resistance values, stemming from variance alone."
   ]
  },
  {
   "cell_type": "code",
   "execution_count": 18,
   "metadata": {},
   "outputs": [
    {
     "data": {
      "image/png": "[encoded data removed]",
      "text/plain": [
       "<Figure size 640x480 with 1 Axes>"
      ]
     },
     "metadata": {},
     "output_type": "display_data"
    }
   ],
   "source": [
    "name = ['Jaguar', 'Panther']\n",
    "data = [jg_var,pt_var]\n",
    "\n",
    "plt.bar(name,data)\n",
    "plt.xlabel('')\n",
    "plt.ylabel('Variance')\n",
    "plt.show()"
   ]
  },
  {
   "cell_type": "markdown",
   "metadata": {},
   "source": [
    "### **Standard Deviation** <br>\n",
    "**Jaguar's standard deviation of 284.17** indicates a **higher variability** in its resistor's resistance ratings compared to **Panther's standard deviation of 166.26**. A higher standard deviation suggests that the individual resistance values of Jaguar's resistors are **more spread out from the mean**, meaning there is **greater inconsistency** in their performance. This increased variability could lead to less predictable behavior in circuits that rely on precise resistance values, potentially causing performance issues in sensitive applications. In contrast, **Panther's lower standard deviation** indicates that its resistance values are **more tightly clustered around the mean**, implying **greater consistency and reliability**. Therefore, resulting from standard deviation, while **Jaguar may** offer a resistor closer to the target value on average, its **higher variability** could be problematic in scenarios where tight tolerance and stable resistance are critical, such as in precision measurement, filtering, or voltage regulation circuits. **Panther**, with its lower variability, would be **better suited** for applications requiring **more consistent and predictable** resistance values."
   ]
  },
  {
   "cell_type": "code",
   "execution_count": 42,
   "metadata": {},
   "outputs": [
    {
     "data": {
      "image/png": "[encoded data removed]",
      "text/plain": [
       "<Figure size 640x480 with 1 Axes>"
      ]
     },
     "metadata": {},
     "output_type": "display_data"
    }
   ],
   "source": [
    "name = ['Jaguar', 'Panther']\n",
    "data = [jg_sd,pt_sd]\n",
    "\n",
    "plt.bar(name,data)\n",
    "plt.xlabel('')\n",
    "plt.ylabel('Standard Deviation')\n",
    "plt.show()"
   ]
  },
  {
   "cell_type": "markdown",
   "metadata": {},
   "source": [
    "### **Coeffecient of Variation** <br>\n",
    "\n",
    "**Jaguar's coefficient of variation (CV) of 0.26**, compared to **Panther's CV of 0.17**, indicates that **Jaguar's resistors exhibit greater relative variability** in relation to their average resistance. The coefficient of variation is a measure of the dispersion of data, normalized by the mean, and a higher value suggests that the resistors produced by Jaguar experience **more fluctuation** relative to their average value. In practical terms, this means that Jaguar's resistors are **less consistent**, and the resistance values can vary more significantly from the expected mean, making them **less reliable** in applications that require precise and stable resistance. On the other hand, **Panther's lower CV of 0.17** suggests that its resistors are **more consistent**, with **less fluctuation** relative to the average, making them a better choice for applications that demand tighter tolerance and predictable performance. In circuits requiring high precision, such as voltage dividers, filters, or sensitive measurement equipment, **Jaguar’s higher CV could result in performance issues**, predicated on coefficient of variation alone, due to the increased likelihood of resistance values deviating significantly from <br>the target."
   ]
  },
  {
   "cell_type": "code",
   "execution_count": 45,
   "metadata": {},
   "outputs": [
    {
     "data": {
      "image/png": "[encoded data removed]",
      "text/plain": [
       "<Figure size 640x480 with 1 Axes>"
      ]
     },
     "metadata": {},
     "output_type": "display_data"
    }
   ],
   "source": [
    "name = ['Jaguar', 'Panther']\n",
    "data = [jg_cv,pt_cv]\n",
    "\n",
    "plt.bar(name,data)\n",
    "plt.xlabel('')\n",
    "plt.ylabel('Coeffecient of Variation')\n",
    "plt.show()"
   ]
  },
  {
   "cell_type": "markdown",
   "metadata": {},
   "source": [
    "### **Boxplot** <br>\n",
    "Comparing the two boxplots, **Panther demonstrates lower variability** and **fewer extreme outliers** compared to **Jaguar**, which has a wider range and **more pronounced outliers**. While both have **median values close to 1000 Ω**, Panther's resistance ratings are **more tightly clustered**, making it **more reliable** for applications requiring consistency. In contrast, **Jaguar’s** wider spread and **greater number of outliers** suggest it may have issues with precision and predictability. **Panther's better adherence to the target resistance** and **tighter distribution** make it a **preferable choice** for precision-critical applications, whereas **Jaguar** may be more suited for **less stringent requirements**."
   ]
  },
  {
   "cell_type": "code",
   "execution_count": 52,
   "metadata": {},
   "outputs": [
    {
     "data": {
      "text/plain": [
       "<function matplotlib.pyplot.show(close=None, block=None)>"
      ]
     },
     "execution_count": 52,
     "metadata": {},
     "output_type": "execute_result"
    },
    {
     "data": {
      "image/png": "[encoded data removed]",
      "text/plain": [
       "<Figure size 640x480 with 1 Axes>"
      ]
     },
     "metadata": {},
     "output_type": "display_data"
    }
   ],
   "source": [
    "box = plt.boxplot([df['Jaguar'], df['Panther']], patch_artist=True)\n",
    "plt.title(\"Jaguar and Panther Performance Analysis\")\n",
    "plt.ylabel(\"Resistance Rating\")\n",
    "plt.xticks([1, 2], ['Jaguar', 'Panther'])\n",
    "plt.grid(axis='y', linestyle ='-', alpha=1)\n",
    "plt.show"
   ]
  },
  {
   "cell_type": "markdown",
   "metadata": {},
   "source": [
    "### **Conclusion** <br>\n",
    "In conclusion, while both **Jaguar and Panther** offer resistors with values **near the target of 1 kΩ**, **Panther demonstrates greater consistency and reliability** in its performance. Panther's lower variance, lower standard deviation, and coefficient of variation indicate that its resistors exhibit **minimal fluctuation** and are more tightly clustered around the mean, making them a better choice for applications that require precise and stable resistance values, such as voltage regulation, filtering, or sensitive measurement systems. In contrast, Jaguar's higher variance and greater standard deviation suggest that its resistors experience **more< significant fluctuations**, leading to **higher variability** and less predictable performance. While Jaguar's resistors may sometimes be closer to the target mean, their **increased inconsistency** makes them **less suitable** for high-precision applications. Therefore, **Panther is the preferred choice** when tight tolerance and minimal resistance variation are critical for reliable circuit operation."
   ]
  },
  {
   "cell_type": "markdown",
   "metadata": {},
   "source": [
    "### **Recommendations** <br>\n",
    "Considering the findings, it is recommended to opt for the Panther in situations where consistency and reliability are crucial. Its minimal performance variability ensures steady and predictable results, making it the ideal choice for tasks that require high precision, meet stringent quality standards, or demand uninterrupted and dependable performance. The Panther's stable operation reduces the chances of delays or errors, contributing to greater efficiency and productivity.\n",
    "\n",
    "On the other hand, the Jaguar may be a suitable option when peak performance is prioritized over strict consistency, or when occasional variability can be tolerated without major consequences. However, due to its greater fluctuations, the Jaguar is not recommended for high-precision applications where exact consistency is a critical factor.\n"
   ]
  }
 ],
 "metadata": {
  "kernelspec": {
   "display_name": "Python 3",
   "language": "python",
   "name": "python3"
  },
  "language_info": {
   "codemirror_mode": {
    "name": "ipython",
    "version": 3
   },
   "file_extension": ".py",
   "mimetype": "text/x-python",
   "name": "python",
   "nbconvert_exporter": "python",
   "pygments_lexer": "ipython3",
   "version": "3.12.8"
  }
 },
 "nbformat": 4,
 "nbformat_minor": 2
}
