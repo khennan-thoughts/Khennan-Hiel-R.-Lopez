{
 "cells": [
  {
   "cell_type": "markdown",
   "metadata": {},
   "source": [
    "# WK6 Data Cleaning\n",
    "<hr style=\"border:2.5px solid #126782\">\n"
   ]
  },
  {
   "cell_type": "markdown",
   "metadata": {},
   "source": [
    "Name: **Khennan Hiel R. Lopez**\n",
    "<br>\n",
    "Course: **CPE2A**"
   ]
  },
  {
   "cell_type": "markdown",
   "metadata": {},
   "source": [
    "Import **pandas,numpy** and **matplotlib** library"
   ]
  },
  {
   "cell_type": "code",
   "execution_count": 3,
   "metadata": {},
   "outputs": [],
   "source": [
    "import pandas as pd\n",
    "import numpy as np\n",
    "import matplotlib.pyplot as plt"
   ]
  },
  {
   "cell_type": "markdown",
   "metadata": {},
   "source": [
    "## Overview of the Dataset"
   ]
  },
  {
   "cell_type": "markdown",
   "metadata": {},
   "source": [
    "Load the **\"chip-dataset.csv\"** <br>\n",
    "**r** - Stands for *raw string*. <br>\n",
    "It tells the Python to treat the string literally (backslashes ( **\\\\** ) are not interpreted as escape characters)."
   ]
  },
  {
   "cell_type": "code",
   "execution_count": 4,
   "metadata": {},
   "outputs": [
    {
     "name": "stdout",
     "output_type": "stream",
     "text": [
      "<class 'pandas.core.frame.DataFrame'>\n",
      "RangeIndex: 4854 entries, 0 to 4853\n",
      "Data columns (total 14 columns):\n",
      " #   Column                 Non-Null Count  Dtype  \n",
      "---  ------                 --------------  -----  \n",
      " 0   Unnamed: 0             4854 non-null   int64  \n",
      " 1   Product                4854 non-null   object \n",
      " 2   Type                   4854 non-null   object \n",
      " 3   Release Date           4854 non-null   object \n",
      " 4   Process Size (nm)      4845 non-null   float64\n",
      " 5   TDP (W)                4228 non-null   float64\n",
      " 6   Die Size (mm^2)        4139 non-null   float64\n",
      " 7   Transistors (million)  4143 non-null   float64\n",
      " 8   Freq (MHz)             4854 non-null   int64  \n",
      " 9   Foundry                4854 non-null   object \n",
      " 10  Vendor                 4854 non-null   object \n",
      " 11  FP16 GFLOPS            536 non-null    float64\n",
      " 12  FP32 GFLOPS            1948 non-null   float64\n",
      " 13  FP64 GFLOPS            1306 non-null   float64\n",
      "dtypes: float64(7), int64(2), object(5)\n",
      "memory usage: 531.0+ KB\n"
     ]
    }
   ],
   "source": [
    "df = pd.read_csv(r\"..\\raw\\chip-dataset.csv\",\n",
    "                 delimiter=\",\")\n",
    "df.info()"
   ]
  },
  {
   "cell_type": "markdown",
   "metadata": {},
   "source": [
    "Display an **overview** of the data set"
   ]
  },
  {
   "cell_type": "code",
   "execution_count": 5,
   "metadata": {},
   "outputs": [
    {
     "data": {
      "text/html": [
       "<div>\n",
       "<style scoped>\n",
       "    .dataframe tbody tr th:only-of-type {\n",
       "        vertical-align: middle;\n",
       "    }\n",
       "\n",
       "    .dataframe tbody tr th {\n",
       "        vertical-align: top;\n",
       "    }\n",
       "\n",
       "    .dataframe thead th {\n",
       "        text-align: right;\n",
       "    }\n",
       "</style>\n",
       "<table border=\"1\" class=\"dataframe\">\n",
       "  <thead>\n",
       "    <tr style=\"text-align: right;\">\n",
       "      <th></th>\n",
       "      <th>Unnamed: 0</th>\n",
       "      <th>Product</th>\n",
       "      <th>Type</th>\n",
       "      <th>Release Date</th>\n",
       "      <th>Process Size (nm)</th>\n",
       "      <th>TDP (W)</th>\n",
       "      <th>Die Size (mm^2)</th>\n",
       "      <th>Transistors (million)</th>\n",
       "      <th>Freq (MHz)</th>\n",
       "      <th>Foundry</th>\n",
       "      <th>Vendor</th>\n",
       "      <th>FP16 GFLOPS</th>\n",
       "      <th>FP32 GFLOPS</th>\n",
       "      <th>FP64 GFLOPS</th>\n",
       "    </tr>\n",
       "  </thead>\n",
       "  <tbody>\n",
       "    <tr>\n",
       "      <th>0</th>\n",
       "      <td>0</td>\n",
       "      <td>AMD Athlon 64 3500+</td>\n",
       "      <td>CPU</td>\n",
       "      <td>2/20/2007</td>\n",
       "      <td>65.0</td>\n",
       "      <td>45.0</td>\n",
       "      <td>77.0</td>\n",
       "      <td>122.0</td>\n",
       "      <td>2200</td>\n",
       "      <td>Unknown</td>\n",
       "      <td>AMD</td>\n",
       "      <td>NaN</td>\n",
       "      <td>NaN</td>\n",
       "      <td>NaN</td>\n",
       "    </tr>\n",
       "    <tr>\n",
       "      <th>1</th>\n",
       "      <td>1</td>\n",
       "      <td>AMD Athlon 200GE</td>\n",
       "      <td>CPU</td>\n",
       "      <td>9/6/2018</td>\n",
       "      <td>14.0</td>\n",
       "      <td>35.0</td>\n",
       "      <td>192.0</td>\n",
       "      <td>4800.0</td>\n",
       "      <td>3200</td>\n",
       "      <td>Unknown</td>\n",
       "      <td>AMD</td>\n",
       "      <td>NaN</td>\n",
       "      <td>NaN</td>\n",
       "      <td>NaN</td>\n",
       "    </tr>\n",
       "    <tr>\n",
       "      <th>2</th>\n",
       "      <td>2</td>\n",
       "      <td>Intel Core i5-1145G7</td>\n",
       "      <td>CPU</td>\n",
       "      <td>9/2/2020</td>\n",
       "      <td>10.0</td>\n",
       "      <td>28.0</td>\n",
       "      <td>NaN</td>\n",
       "      <td>NaN</td>\n",
       "      <td>2600</td>\n",
       "      <td>Intel</td>\n",
       "      <td>Intel</td>\n",
       "      <td>NaN</td>\n",
       "      <td>NaN</td>\n",
       "      <td>NaN</td>\n",
       "    </tr>\n",
       "    <tr>\n",
       "      <th>3</th>\n",
       "      <td>3</td>\n",
       "      <td>Intel Xeon E5-2603 v2</td>\n",
       "      <td>CPU</td>\n",
       "      <td>9/1/2013</td>\n",
       "      <td>22.0</td>\n",
       "      <td>80.0</td>\n",
       "      <td>160.0</td>\n",
       "      <td>1400.0</td>\n",
       "      <td>1800</td>\n",
       "      <td>Intel</td>\n",
       "      <td>Intel</td>\n",
       "      <td>NaN</td>\n",
       "      <td>NaN</td>\n",
       "      <td>NaN</td>\n",
       "    </tr>\n",
       "    <tr>\n",
       "      <th>4</th>\n",
       "      <td>4</td>\n",
       "      <td>AMD Phenom II X4 980 BE</td>\n",
       "      <td>CPU</td>\n",
       "      <td>5/3/2011</td>\n",
       "      <td>45.0</td>\n",
       "      <td>125.0</td>\n",
       "      <td>258.0</td>\n",
       "      <td>758.0</td>\n",
       "      <td>3700</td>\n",
       "      <td>Unknown</td>\n",
       "      <td>AMD</td>\n",
       "      <td>NaN</td>\n",
       "      <td>NaN</td>\n",
       "      <td>NaN</td>\n",
       "    </tr>\n",
       "  </tbody>\n",
       "</table>\n",
       "</div>"
      ],
      "text/plain": [
       "   Unnamed: 0                  Product Type Release Date  Process Size (nm)  \\\n",
       "0           0      AMD Athlon 64 3500+  CPU    2/20/2007               65.0   \n",
       "1           1         AMD Athlon 200GE  CPU     9/6/2018               14.0   \n",
       "2           2     Intel Core i5-1145G7  CPU     9/2/2020               10.0   \n",
       "3           3    Intel Xeon E5-2603 v2  CPU     9/1/2013               22.0   \n",
       "4           4  AMD Phenom II X4 980 BE  CPU     5/3/2011               45.0   \n",
       "\n",
       "   TDP (W)  Die Size (mm^2)  Transistors (million)  Freq (MHz)  Foundry  \\\n",
       "0     45.0             77.0                  122.0        2200  Unknown   \n",
       "1     35.0            192.0                 4800.0        3200  Unknown   \n",
       "2     28.0              NaN                    NaN        2600    Intel   \n",
       "3     80.0            160.0                 1400.0        1800    Intel   \n",
       "4    125.0            258.0                  758.0        3700  Unknown   \n",
       "\n",
       "  Vendor  FP16 GFLOPS  FP32 GFLOPS  FP64 GFLOPS  \n",
       "0    AMD          NaN          NaN          NaN  \n",
       "1    AMD          NaN          NaN          NaN  \n",
       "2  Intel          NaN          NaN          NaN  \n",
       "3  Intel          NaN          NaN          NaN  \n",
       "4    AMD          NaN          NaN          NaN  "
      ]
     },
     "execution_count": 5,
     "metadata": {},
     "output_type": "execute_result"
    }
   ],
   "source": [
    "df.head()"
   ]
  },
  {
   "cell_type": "markdown",
   "metadata": {},
   "source": [
    "**Drop** the first column"
   ]
  },
  {
   "cell_type": "code",
   "execution_count": 6,
   "metadata": {},
   "outputs": [
    {
     "data": {
      "text/html": [
       "<div>\n",
       "<style scoped>\n",
       "    .dataframe tbody tr th:only-of-type {\n",
       "        vertical-align: middle;\n",
       "    }\n",
       "\n",
       "    .dataframe tbody tr th {\n",
       "        vertical-align: top;\n",
       "    }\n",
       "\n",
       "    .dataframe thead th {\n",
       "        text-align: right;\n",
       "    }\n",
       "</style>\n",
       "<table border=\"1\" class=\"dataframe\">\n",
       "  <thead>\n",
       "    <tr style=\"text-align: right;\">\n",
       "      <th></th>\n",
       "      <th>Product</th>\n",
       "      <th>Type</th>\n",
       "      <th>Release Date</th>\n",
       "      <th>Process Size (nm)</th>\n",
       "      <th>TDP (W)</th>\n",
       "      <th>Die Size (mm^2)</th>\n",
       "      <th>Transistors (million)</th>\n",
       "      <th>Freq (MHz)</th>\n",
       "      <th>Foundry</th>\n",
       "      <th>Vendor</th>\n",
       "      <th>FP16 GFLOPS</th>\n",
       "      <th>FP32 GFLOPS</th>\n",
       "      <th>FP64 GFLOPS</th>\n",
       "    </tr>\n",
       "  </thead>\n",
       "  <tbody>\n",
       "    <tr>\n",
       "      <th>0</th>\n",
       "      <td>AMD Athlon 64 3500+</td>\n",
       "      <td>CPU</td>\n",
       "      <td>2/20/2007</td>\n",
       "      <td>65.0</td>\n",
       "      <td>45.0</td>\n",
       "      <td>77.0</td>\n",
       "      <td>122.0</td>\n",
       "      <td>2200</td>\n",
       "      <td>Unknown</td>\n",
       "      <td>AMD</td>\n",
       "      <td>NaN</td>\n",
       "      <td>NaN</td>\n",
       "      <td>NaN</td>\n",
       "    </tr>\n",
       "    <tr>\n",
       "      <th>1</th>\n",
       "      <td>AMD Athlon 200GE</td>\n",
       "      <td>CPU</td>\n",
       "      <td>9/6/2018</td>\n",
       "      <td>14.0</td>\n",
       "      <td>35.0</td>\n",
       "      <td>192.0</td>\n",
       "      <td>4800.0</td>\n",
       "      <td>3200</td>\n",
       "      <td>Unknown</td>\n",
       "      <td>AMD</td>\n",
       "      <td>NaN</td>\n",
       "      <td>NaN</td>\n",
       "      <td>NaN</td>\n",
       "    </tr>\n",
       "    <tr>\n",
       "      <th>2</th>\n",
       "      <td>Intel Core i5-1145G7</td>\n",
       "      <td>CPU</td>\n",
       "      <td>9/2/2020</td>\n",
       "      <td>10.0</td>\n",
       "      <td>28.0</td>\n",
       "      <td>NaN</td>\n",
       "      <td>NaN</td>\n",
       "      <td>2600</td>\n",
       "      <td>Intel</td>\n",
       "      <td>Intel</td>\n",
       "      <td>NaN</td>\n",
       "      <td>NaN</td>\n",
       "      <td>NaN</td>\n",
       "    </tr>\n",
       "    <tr>\n",
       "      <th>3</th>\n",
       "      <td>Intel Xeon E5-2603 v2</td>\n",
       "      <td>CPU</td>\n",
       "      <td>9/1/2013</td>\n",
       "      <td>22.0</td>\n",
       "      <td>80.0</td>\n",
       "      <td>160.0</td>\n",
       "      <td>1400.0</td>\n",
       "      <td>1800</td>\n",
       "      <td>Intel</td>\n",
       "      <td>Intel</td>\n",
       "      <td>NaN</td>\n",
       "      <td>NaN</td>\n",
       "      <td>NaN</td>\n",
       "    </tr>\n",
       "    <tr>\n",
       "      <th>4</th>\n",
       "      <td>AMD Phenom II X4 980 BE</td>\n",
       "      <td>CPU</td>\n",
       "      <td>5/3/2011</td>\n",
       "      <td>45.0</td>\n",
       "      <td>125.0</td>\n",
       "      <td>258.0</td>\n",
       "      <td>758.0</td>\n",
       "      <td>3700</td>\n",
       "      <td>Unknown</td>\n",
       "      <td>AMD</td>\n",
       "      <td>NaN</td>\n",
       "      <td>NaN</td>\n",
       "      <td>NaN</td>\n",
       "    </tr>\n",
       "  </tbody>\n",
       "</table>\n",
       "</div>"
      ],
      "text/plain": [
       "                   Product Type Release Date  Process Size (nm)  TDP (W)  \\\n",
       "0      AMD Athlon 64 3500+  CPU    2/20/2007               65.0     45.0   \n",
       "1         AMD Athlon 200GE  CPU     9/6/2018               14.0     35.0   \n",
       "2     Intel Core i5-1145G7  CPU     9/2/2020               10.0     28.0   \n",
       "3    Intel Xeon E5-2603 v2  CPU     9/1/2013               22.0     80.0   \n",
       "4  AMD Phenom II X4 980 BE  CPU     5/3/2011               45.0    125.0   \n",
       "\n",
       "   Die Size (mm^2)  Transistors (million)  Freq (MHz)  Foundry Vendor  \\\n",
       "0             77.0                  122.0        2200  Unknown    AMD   \n",
       "1            192.0                 4800.0        3200  Unknown    AMD   \n",
       "2              NaN                    NaN        2600    Intel  Intel   \n",
       "3            160.0                 1400.0        1800    Intel  Intel   \n",
       "4            258.0                  758.0        3700  Unknown    AMD   \n",
       "\n",
       "   FP16 GFLOPS  FP32 GFLOPS  FP64 GFLOPS  \n",
       "0          NaN          NaN          NaN  \n",
       "1          NaN          NaN          NaN  \n",
       "2          NaN          NaN          NaN  \n",
       "3          NaN          NaN          NaN  \n",
       "4          NaN          NaN          NaN  "
      ]
     },
     "execution_count": 6,
     "metadata": {},
     "output_type": "execute_result"
    }
   ],
   "source": [
    "df = df.drop(df.columns[0],axis=1)\n",
    "df.head()"
   ]
  },
  {
   "cell_type": "markdown",
   "metadata": {},
   "source": [
    "**Rename** columns"
   ]
  },
  {
   "cell_type": "code",
   "execution_count": 7,
   "metadata": {},
   "outputs": [
    {
     "name": "stdout",
     "output_type": "stream",
     "text": [
      "<class 'pandas.core.frame.DataFrame'>\n",
      "RangeIndex: 4854 entries, 0 to 4853\n",
      "Data columns (total 13 columns):\n",
      " #   Column        Non-Null Count  Dtype  \n",
      "---  ------        --------------  -----  \n",
      " 0   Product       4854 non-null   object \n",
      " 1   Type          4854 non-null   object \n",
      " 2   Date          4854 non-null   object \n",
      " 3   Process_Size  4845 non-null   float64\n",
      " 4   TDP           4228 non-null   float64\n",
      " 5   Die_Size      4139 non-null   float64\n",
      " 6   Transistors   4143 non-null   float64\n",
      " 7   Frequency     4854 non-null   int64  \n",
      " 8   Foundry       4854 non-null   object \n",
      " 9   Vendor        4854 non-null   object \n",
      " 10  FP16          536 non-null    float64\n",
      " 11  FP32          1948 non-null   float64\n",
      " 12  FP64          1306 non-null   float64\n",
      "dtypes: float64(7), int64(1), object(5)\n",
      "memory usage: 493.1+ KB\n"
     ]
    }
   ],
   "source": [
    "df_w = df.rename(columns={\n",
    "    'Release Date' : 'Date' ,\n",
    "    'Process Size (nm)' : 'Process_Size' ,\n",
    "    'TDP (W)' : 'TDP' ,\n",
    "    'Die Size (mm^2)' : 'Die_Size' ,\n",
    "    'Transistors (million)' : 'Transistors' ,\n",
    "    'Freq (MHz)' : 'Frequency' ,\n",
    "    'FP16 GFLOPS' : 'FP16' ,\n",
    "    'FP32 GFLOPS' : 'FP32' ,\n",
    "    'FP64 GFLOPS' : 'FP64'\n",
    "})\n",
    "df_w.info()\n",
    "df_m = df_w.copy()\n",
    "df_l = df_w.copy()"
   ]
  },
  {
   "cell_type": "markdown",
   "metadata": {},
   "source": [
    "##  Determining **Distinct** Values"
   ]
  },
  {
   "cell_type": "code",
   "execution_count": 8,
   "metadata": {},
   "outputs": [
    {
     "data": {
      "text/plain": [
       "array(['AMD Athlon 64 3500+', 'AMD Athlon 200GE', 'Intel Core i5-1145G7',\n",
       "       ..., 'NVIDIA GeForce FX Go5100', 'NVIDIA Quadro 3000M',\n",
       "       'NVIDIA GeForce 9300 SE'], shape=(4278,), dtype=object)"
      ]
     },
     "execution_count": 8,
     "metadata": {},
     "output_type": "execute_result"
    }
   ],
   "source": [
    "df_w['Product'].unique()"
   ]
  },
  {
   "cell_type": "code",
   "execution_count": 9,
   "metadata": {},
   "outputs": [
    {
     "data": {
      "text/plain": [
       "4278"
      ]
     },
     "execution_count": 9,
     "metadata": {},
     "output_type": "execute_result"
    }
   ],
   "source": [
    "df_w['Product'].nunique()"
   ]
  },
  {
   "cell_type": "code",
   "execution_count": 10,
   "metadata": {},
   "outputs": [
    {
     "data": {
      "text/plain": [
       "array(['CPU', 'GPU'], dtype=object)"
      ]
     },
     "execution_count": 10,
     "metadata": {},
     "output_type": "execute_result"
    }
   ],
   "source": [
    "df_w['Type'].unique()"
   ]
  },
  {
   "cell_type": "code",
   "execution_count": 11,
   "metadata": {},
   "outputs": [
    {
     "data": {
      "text/plain": [
       "2"
      ]
     },
     "execution_count": 11,
     "metadata": {},
     "output_type": "execute_result"
    }
   ],
   "source": [
    "df_w['Type'].nunique()"
   ]
  },
  {
   "cell_type": "code",
   "execution_count": 12,
   "metadata": {},
   "outputs": [
    {
     "data": {
      "text/plain": [
       "array(['Unknown', 'Intel', 'GF', 'TSMC', 'UMC', 'Samsung', 'Renesas',\n",
       "       'Sony', 'NEC', 'IBM'], dtype=object)"
      ]
     },
     "execution_count": 12,
     "metadata": {},
     "output_type": "execute_result"
    }
   ],
   "source": [
    "df_w['Foundry'].unique()"
   ]
  },
  {
   "cell_type": "code",
   "execution_count": 13,
   "metadata": {},
   "outputs": [
    {
     "data": {
      "text/plain": [
       "10"
      ]
     },
     "execution_count": 13,
     "metadata": {},
     "output_type": "execute_result"
    }
   ],
   "source": [
    "df_w['Foundry'].nunique()"
   ]
  },
  {
   "cell_type": "code",
   "execution_count": 14,
   "metadata": {},
   "outputs": [
    {
     "data": {
      "text/plain": [
       "array(['AMD', 'Intel', 'Other', 'NVIDIA', 'ATI'], dtype=object)"
      ]
     },
     "execution_count": 14,
     "metadata": {},
     "output_type": "execute_result"
    }
   ],
   "source": [
    "df_w['Vendor'].unique()"
   ]
  },
  {
   "cell_type": "code",
   "execution_count": 15,
   "metadata": {},
   "outputs": [
    {
     "data": {
      "text/plain": [
       "5"
      ]
     },
     "execution_count": 15,
     "metadata": {},
     "output_type": "execute_result"
    }
   ],
   "source": [
    "df_w['Vendor'].nunique()"
   ]
  },
  {
   "cell_type": "markdown",
   "metadata": {},
   "source": [
    "## Data Cleaning - Dropping NaN"
   ]
  },
  {
   "cell_type": "markdown",
   "metadata": {},
   "source": [
    "Determine the **count of Nan** (*Not a Number*) values"
   ]
  },
  {
   "cell_type": "code",
   "execution_count": 16,
   "metadata": {},
   "outputs": [
    {
     "data": {
      "text/plain": [
       "Product            0\n",
       "Type               0\n",
       "Date               0\n",
       "Process_Size       9\n",
       "TDP              626\n",
       "Die_Size         715\n",
       "Transistors      711\n",
       "Frequency          0\n",
       "Foundry            0\n",
       "Vendor             0\n",
       "FP16            4318\n",
       "FP32            2906\n",
       "FP64            3548\n",
       "dtype: int64"
      ]
     },
     "execution_count": 16,
     "metadata": {},
     "output_type": "execute_result"
    }
   ],
   "source": [
    "df_w.isna().sum()"
   ]
  },
  {
   "cell_type": "code",
   "execution_count": 33,
   "metadata": {},
   "outputs": [
    {
     "data": {
      "text/plain": [
       "Product            0\n",
       "Type               0\n",
       "Date               0\n",
       "Process_Size       0\n",
       "TDP                0\n",
       "Die_Size           0\n",
       "Transistors        0\n",
       "Frequency          0\n",
       "Foundry            0\n",
       "Vendor             0\n",
       "FP16            2992\n",
       "FP32            1812\n",
       "FP64            2369\n",
       "dtype: int64"
      ]
     },
     "execution_count": 33,
     "metadata": {},
     "output_type": "execute_result"
    }
   ],
   "source": [
    "# Cleaning Process Size\n",
    "df_w = df_w.dropna(subset=['Process_Size'])\n",
    "df_w.isna().sum()"
   ]
  },
  {
   "cell_type": "code",
   "execution_count": 18,
   "metadata": {},
   "outputs": [
    {
     "data": {
      "text/plain": [
       "Product            0\n",
       "Type               0\n",
       "Date               0\n",
       "Process_Size       0\n",
       "TDP                0\n",
       "Die_Size         660\n",
       "Transistors      668\n",
       "Frequency          0\n",
       "Foundry            0\n",
       "Vendor             0\n",
       "FP16            3717\n",
       "FP32            2481\n",
       "FP64            3047\n",
       "dtype: int64"
      ]
     },
     "execution_count": 18,
     "metadata": {},
     "output_type": "execute_result"
    }
   ],
   "source": [
    "# Cleaning TDP\n",
    "df_w = df_w.dropna(subset=['TDP'])\n",
    "df_w.isna().sum()"
   ]
  },
  {
   "cell_type": "code",
   "execution_count": 19,
   "metadata": {},
   "outputs": [
    {
     "data": {
      "text/plain": [
       "Product            0\n",
       "Type               0\n",
       "Date               0\n",
       "Process_Size       0\n",
       "TDP                0\n",
       "Die_Size           0\n",
       "Transistors      140\n",
       "Frequency          0\n",
       "Foundry            0\n",
       "Vendor             0\n",
       "FP16            3113\n",
       "FP32            1930\n",
       "FP64            2489\n",
       "dtype: int64"
      ]
     },
     "execution_count": 19,
     "metadata": {},
     "output_type": "execute_result"
    }
   ],
   "source": [
    "# Cleaning Die_Size\n",
    "df_w = df_w.dropna(subset=['Die_Size'])\n",
    "df_w.isna().sum()"
   ]
  },
  {
   "cell_type": "code",
   "execution_count": 20,
   "metadata": {},
   "outputs": [
    {
     "data": {
      "text/plain": [
       "Product            0\n",
       "Type               0\n",
       "Date               0\n",
       "Process_Size       0\n",
       "TDP                0\n",
       "Die_Size           0\n",
       "Transistors        0\n",
       "Frequency          0\n",
       "Foundry            0\n",
       "Vendor             0\n",
       "FP16            2992\n",
       "FP32            1812\n",
       "FP64            2369\n",
       "dtype: int64"
      ]
     },
     "execution_count": 20,
     "metadata": {},
     "output_type": "execute_result"
    }
   ],
   "source": [
    "# *Cleaning Transistors*\n",
    "df_w = df_w.dropna(subset=['Transistors'])\n",
    "df_w.isna().sum()"
   ]
  },
  {
   "cell_type": "code",
   "execution_count": 21,
   "metadata": {},
   "outputs": [
    {
     "name": "stdout",
     "output_type": "stream",
     "text": [
      "<class 'pandas.core.frame.DataFrame'>\n",
      "Index: 3422 entries, 0 to 4851\n",
      "Data columns (total 13 columns):\n",
      " #   Column        Non-Null Count  Dtype  \n",
      "---  ------        --------------  -----  \n",
      " 0   Product       3422 non-null   object \n",
      " 1   Type          3422 non-null   object \n",
      " 2   Date          3422 non-null   object \n",
      " 3   Process_Size  3422 non-null   float64\n",
      " 4   TDP           3422 non-null   float64\n",
      " 5   Die_Size      3422 non-null   float64\n",
      " 6   Transistors   3422 non-null   float64\n",
      " 7   Frequency     3422 non-null   int64  \n",
      " 8   Foundry       3422 non-null   object \n",
      " 9   Vendor        3422 non-null   object \n",
      " 10  FP16          430 non-null    float64\n",
      " 11  FP32          1610 non-null   float64\n",
      " 12  FP64          1053 non-null   float64\n",
      "dtypes: float64(7), int64(1), object(5)\n",
      "memory usage: 374.3+ KB\n"
     ]
    }
   ],
   "source": [
    "df_w.info()"
   ]
  },
  {
   "cell_type": "code",
   "execution_count": 34,
   "metadata": {},
   "outputs": [
    {
     "data": {
      "text/plain": [
       "Product            0\n",
       "Type               0\n",
       "Date               0\n",
       "Process_Size       0\n",
       "TDP                0\n",
       "Die_Size           0\n",
       "Transistors        0\n",
       "Frequency          0\n",
       "Foundry            0\n",
       "Vendor             0\n",
       "FP16            2992\n",
       "FP32            1812\n",
       "FP64            2369\n",
       "dtype: int64"
      ]
     },
     "execution_count": 34,
     "metadata": {},
     "output_type": "execute_result"
    }
   ],
   "source": [
    "df_w.isna().sum()"
   ]
  },
  {
   "cell_type": "markdown",
   "metadata": {},
   "source": [
    "## Data Cleaning - Replacing Nan with Mean"
   ]
  },
  {
   "cell_type": "markdown",
   "metadata": {},
   "source": [
    "Make a copy of **df_w**"
   ]
  },
  {
   "cell_type": "code",
   "execution_count": 23,
   "metadata": {},
   "outputs": [
    {
     "name": "stdout",
     "output_type": "stream",
     "text": [
      "55.10959752321981\n"
     ]
    }
   ],
   "source": [
    "# Cleaning Process Size with Mean\n",
    "psize_mean = df_m['Process_Size'].mean()\n",
    "print(psize_mean)\n",
    "df_m['Process_Size'] = df_m['Process_Size'].fillna(psize_mean)"
   ]
  },
  {
   "cell_type": "code",
   "execution_count": 24,
   "metadata": {},
   "outputs": [],
   "source": [
    "# Cleaning TDP with Mean\n",
    "df_m['TDP'] = df_m['TDP'].fillna(df_m['TDP'].mean())"
   ]
  },
  {
   "cell_type": "code",
   "execution_count": 25,
   "metadata": {},
   "outputs": [],
   "source": [
    "# Cleaning Die Size with Mean\n",
    "df_m['Die_Size'] = df_m['Die_Size'].fillna(df_m['Die_Size'].mean())"
   ]
  },
  {
   "cell_type": "code",
   "execution_count": 26,
   "metadata": {},
   "outputs": [],
   "source": [
    "# Cleaning Transistors with Mean\n",
    "df_m['Transistors'] = df_m['Transistors'].fillna(df_m['Transistors'].mean())"
   ]
  },
  {
   "cell_type": "code",
   "execution_count": 27,
   "metadata": {},
   "outputs": [
    {
     "data": {
      "text/plain": [
       "Product            0\n",
       "Type               0\n",
       "Date               0\n",
       "Process_Size       0\n",
       "TDP                0\n",
       "Die_Size           0\n",
       "Transistors        0\n",
       "Frequency          0\n",
       "Foundry            0\n",
       "Vendor             0\n",
       "FP16            4318\n",
       "FP32            2906\n",
       "FP64            3548\n",
       "dtype: int64"
      ]
     },
     "execution_count": 27,
     "metadata": {},
     "output_type": "execute_result"
    }
   ],
   "source": [
    "df_m.isna().sum()"
   ]
  },
  {
   "cell_type": "code",
   "execution_count": 28,
   "metadata": {},
   "outputs": [
    {
     "name": "stdout",
     "output_type": "stream",
     "text": [
      "<class 'pandas.core.frame.DataFrame'>\n",
      "RangeIndex: 4854 entries, 0 to 4853\n",
      "Data columns (total 13 columns):\n",
      " #   Column        Non-Null Count  Dtype  \n",
      "---  ------        --------------  -----  \n",
      " 0   Product       4854 non-null   object \n",
      " 1   Type          4854 non-null   object \n",
      " 2   Date          4854 non-null   object \n",
      " 3   Process_Size  4854 non-null   float64\n",
      " 4   TDP           4854 non-null   float64\n",
      " 5   Die_Size      4854 non-null   float64\n",
      " 6   Transistors   4854 non-null   float64\n",
      " 7   Frequency     4854 non-null   int64  \n",
      " 8   Foundry       4854 non-null   object \n",
      " 9   Vendor        4854 non-null   object \n",
      " 10  FP16          536 non-null    float64\n",
      " 11  FP32          1948 non-null   float64\n",
      " 12  FP64          1306 non-null   float64\n",
      "dtypes: float64(7), int64(1), object(5)\n",
      "memory usage: 493.1+ KB\n"
     ]
    }
   ],
   "source": [
    "df_m.info()"
   ]
  },
  {
   "cell_type": "markdown",
   "metadata": {},
   "source": [
    "## Lambda Function <br>\n",
    "A **lambda function** in Python is a small, anonymous function defined using the **lambda** keyword. It is also known as an inline function because it doesn't require a formal name (unlike functions with def). Lambda functions are typically used for short, somple operations that can be written in a single line. <br> <br>\n",
    "Syntax: <br>\n",
    "**lambda** arguments: expression"
   ]
  },
  {
   "cell_type": "code",
   "execution_count": 29,
   "metadata": {},
   "outputs": [
    {
     "data": {
      "text/plain": [
       "[2, 4, 6, 8, 10]"
      ]
     },
     "execution_count": 29,
     "metadata": {},
     "output_type": "execute_result"
    }
   ],
   "source": [
    "numbers = [1,2,3,4,5,6,7,8,9,10]\n",
    "\n",
    "def even(n):\n",
    "    e = []\n",
    "    for i in n:\n",
    "        if i%2==0:\n",
    "            e.append(i)\n",
    "    return e\n",
    "\n",
    "even(numbers)"
   ]
  },
  {
   "cell_type": "code",
   "execution_count": 30,
   "metadata": {},
   "outputs": [
    {
     "data": {
      "text/plain": [
       "[2, 4, 6, 8, 10]"
      ]
     },
     "execution_count": 30,
     "metadata": {},
     "output_type": "execute_result"
    }
   ],
   "source": [
    "even = filter(lambda n : n%2==0 , numbers)\n",
    "list(even)"
   ]
  },
  {
   "cell_type": "code",
   "execution_count": 31,
   "metadata": {},
   "outputs": [
    {
     "data": {
      "text/plain": [
       "Product            0\n",
       "Type               0\n",
       "Date               0\n",
       "Process_Size       9\n",
       "TDP              626\n",
       "Die_Size         715\n",
       "Transistors      711\n",
       "Frequency          0\n",
       "Foundry            0\n",
       "Vendor             0\n",
       "FP16            4318\n",
       "FP32            2906\n",
       "FP64            3548\n",
       "dtype: int64"
      ]
     },
     "execution_count": 31,
     "metadata": {},
     "output_type": "execute_result"
    }
   ],
   "source": [
    "df_l.isna().sum()"
   ]
  },
  {
   "cell_type": "code",
   "execution_count": 32,
   "metadata": {},
   "outputs": [
    {
     "ename": "NameError",
     "evalue": "name 'n_columns' is not defined",
     "output_type": "error",
     "traceback": [
      "\u001b[1;31m---------------------------------------------------------------------------\u001b[0m",
      "\u001b[1;31mNameError\u001b[0m                                 Traceback (most recent call last)",
      "Cell \u001b[1;32mIn[32], line 5\u001b[0m\n\u001b[0;32m      1\u001b[0m n_clumns \u001b[38;5;241m=\u001b[39m [\u001b[38;5;124m'\u001b[39m\u001b[38;5;124mProcess_Size\u001b[39m\u001b[38;5;124m'\u001b[39m ,\n\u001b[0;32m      2\u001b[0m              \u001b[38;5;124m'\u001b[39m\u001b[38;5;124mTDP\u001b[39m\u001b[38;5;124m'\u001b[39m ,\n\u001b[0;32m      3\u001b[0m              \u001b[38;5;124m'\u001b[39m\u001b[38;5;124mDie_Size\u001b[39m\u001b[38;5;124m'\u001b[39m, \n\u001b[0;32m      4\u001b[0m              \u001b[38;5;124m'\u001b[39m\u001b[38;5;124mTransistors\u001b[39m\u001b[38;5;124m'\u001b[39m]\n\u001b[1;32m----> 5\u001b[0m df_l [\u001b[43mn_columns\u001b[49m] \u001b[38;5;241m=\u001b[39m df_l [n_clumns]\u001b[38;5;241m.\u001b[39mapply(\u001b[38;5;28;01mlambda\u001b[39;00m n : n\u001b[38;5;241m.\u001b[39mfillna(n\u001b[38;5;241m.\u001b[39mmean()))\n\u001b[0;32m      6\u001b[0m df_l\u001b[38;5;241m.\u001b[39misna()\u001b[38;5;241m.\u001b[39msum()\n",
      "\u001b[1;31mNameError\u001b[0m: name 'n_columns' is not defined"
     ]
    }
   ],
   "source": [
    "n_clumns = ['Process_Size' ,\n",
    "             'TDP' ,\n",
    "             'Die_Size', \n",
    "             'Transistors']\n",
    "df_l [n_columns] = df_l [n_clumns].apply(lambda n : n.fillna(n.mean()))\n",
    "df_l.isna().sum()"
   ]
  },
  {
   "cell_type": "code",
   "execution_count": 115,
   "metadata": {},
   "outputs": [
    {
     "name": "stdout",
     "output_type": "stream",
     "text": [
      "<class 'pandas.core.frame.DataFrame'>\n",
      "RangeIndex: 4854 entries, 0 to 4853\n",
      "Data columns (total 13 columns):\n",
      " #   Column        Non-Null Count  Dtype  \n",
      "---  ------        --------------  -----  \n",
      " 0   Product       4854 non-null   object \n",
      " 1   Type          4854 non-null   object \n",
      " 2   Date          4854 non-null   object \n",
      " 3   Process_Size  4854 non-null   float64\n",
      " 4   TDP           4854 non-null   float64\n",
      " 5   Die_Size      4854 non-null   float64\n",
      " 6   Transistors   4854 non-null   float64\n",
      " 7   Frequency     4854 non-null   int64  \n",
      " 8   Foundry       4854 non-null   object \n",
      " 9   Vendor        4854 non-null   object \n",
      " 10  FP16          536 non-null    float64\n",
      " 11  FP32          1948 non-null   float64\n",
      " 12  FP64          1306 non-null   float64\n",
      "dtypes: float64(7), int64(1), object(5)\n",
      "memory usage: 493.1+ KB\n"
     ]
    }
   ],
   "source": [
    "df_l.info()"
   ]
  },
  {
   "cell_type": "markdown",
   "metadata": {},
   "source": [
    "## **Saving** Cleaned Dataset"
   ]
  },
  {
   "cell_type": "code",
   "execution_count": 116,
   "metadata": {},
   "outputs": [],
   "source": [
    "df_l.to_csv(r\"..\\raw\\chip-dataset-cleaned.csv\",\n",
    "            index=False)"
   ]
  }
 ],
 "metadata": {
  "kernelspec": {
   "display_name": "Python 3",
   "language": "python",
   "name": "python3"
  },
  "language_info": {
   "codemirror_mode": {
    "name": "ipython",
    "version": 3
   },
   "file_extension": ".py",
   "mimetype": "text/x-python",
   "name": "python",
   "nbconvert_exporter": "python",
   "pygments_lexer": "ipython3",
   "version": "3.12.8"
  }
 },
 "nbformat": 4,
 "nbformat_minor": 2
}
